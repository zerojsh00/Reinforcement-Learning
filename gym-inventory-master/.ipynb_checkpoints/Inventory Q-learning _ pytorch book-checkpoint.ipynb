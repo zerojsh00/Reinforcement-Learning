{
 "cells": [
  {
   "cell_type": "code",
   "execution_count": 1,
   "metadata": {},
   "outputs": [],
   "source": [
    "import numpy as np\n",
    "import matplotlib.pyplot as plt\n",
    "%matplotlib inline\n",
    "import gym\n",
    "import gym_inventory\n",
    "from tqdm import tqdm"
   ]
  },
  {
   "cell_type": "markdown",
   "metadata": {},
   "source": [
    "# Agent 생성"
   ]
  },
  {
   "cell_type": "code",
   "execution_count": 2,
   "metadata": {},
   "outputs": [],
   "source": [
    "class Agent :\n",
    "    '''CartPole 에이전트 역할을 할 클래스, 봉 달린 수레'''\n",
    "    \n",
    "    def __init__(self, num_states, num_actions) :\n",
    "        self.brain = Brain(num_states, num_actions) # 에이전트의 행동을 결정하는 두뇌 \n",
    "        \n",
    "    def update_Q_function(self, observation, action, reward, observation_next)  :\n",
    "        '''Q함수 수정'''\n",
    "        self.brain.update_Q_table(observation, action, reward, observation_next)\n",
    "        \n",
    "    def get_action(self, observation, step) :\n",
    "        '''행동 결정'''\n",
    "        action = self.brain.decide_action(observation, step)\n",
    "        return action"
   ]
  },
  {
   "cell_type": "code",
   "execution_count": 3,
   "metadata": {},
   "outputs": [],
   "source": [
    "class Brain :\n",
    "    '''에이전트의 두뇌 역할을 하는 클래스, Q-learning을 실제로 수행'''\n",
    "    \n",
    "    def __init__(self, num_states, num_actions) :\n",
    "        self.num_actions = num_actions # 행동의 가짓수(왼쪽, 오른쪽)를 구함\n",
    "        \n",
    "        # Q-table 생성\n",
    "        self.q_table = np.zeros((num_states, num_actions))\n",
    "#         self.q_table = np.random.uniform(low=0, high=1, size=(num_states, num_actions))\n",
    "        print(self.q_table.shape)\n",
    "        \n",
    "    def update_Q_table(self, observation, action, reward, observation_next) :\n",
    "        '''Q-learning으로 Q-table을 수정'''\n",
    "        state = observation - 1\n",
    "        state_next = observation_next - 1\n",
    "        Max_Q_next = max(self.q_table[state_next][:])\n",
    "        \n",
    "        self.q_table[state, action] = self.q_table[state, action] + \\\n",
    "        ETA*(reward + GAMMA*Max_Q_next - self.q_table[state, action])\n",
    "        \n",
    "    def decide_action(self, observation, episode) :\n",
    "        '''e-greedy 알고리즘을 적용해 서서히 최적행동의 비중을 늘림'''\n",
    "        state = observation - 1\n",
    "        epsilon = 0.5 * (1 / (episode + 1))\n",
    "        \n",
    "        if epsilon <= np.random.uniform(0, 1) :\n",
    "            action = np.argmax(self.q_table[state][:])\n",
    "        else :\n",
    "            action = np.random.choice(self.num_actions)\n",
    "            \n",
    "        return action"
   ]
  },
  {
   "cell_type": "code",
   "execution_count": 4,
   "metadata": {},
   "outputs": [],
   "source": [
    "class Environment :\n",
    "    '''CartPole을 실행하는 환경 역할을 하는 클래스'''\n",
    "    \n",
    "    def __init__(self) :\n",
    "        self.env = gym.make(ENV) # 실행할 태스크를 설정\n",
    "        num_states = self.env.observation_space.n\n",
    "        num_actions = self.env.action_space.n\n",
    "        self.agent = Agent(num_states, num_actions) # 에이전트 객체를 생성\n",
    "        \n",
    "    def run(self) :\n",
    "        '''실행'''\n",
    "        rewards_list = []\n",
    "        for episode in tqdm(range(NUM_EPISODES)) : # 에피소드만큼 반복\n",
    "            observation = self.env.reset() # 환경 초기화\n",
    "            \n",
    "            for step in range(MAX_STEPS) : # 1 에피소드에 해당하는 반복\n",
    "                                \n",
    "                # 행동을 선택\n",
    "                action = self.agent.get_action(observation, episode)\n",
    "                \n",
    "                # 행동 a_t를 실행해 s_{t+1}, r_{t+1}을 계산\n",
    "                observation_next, reward, done, _ = self.env.step(action) # reward, info는 사용하지 않으므로 _ 처리\n",
    "                \n",
    "#                 print(reward)\n",
    "                \n",
    "                # 다음 단계의 상태 observation_next로 Q함수를 수정\n",
    "                self.agent.update_Q_function(observation, action, reward, observation_next)\n",
    "                \n",
    "                # 다음 단계 상태 관측\n",
    "                observation = observation_next\n",
    "                \n",
    "                # 에피소드 마무리\n",
    "                if done :\n",
    "                    print('{0} Episode: Finished after {1} time steps'.format(episode, step + 1))\n",
    "                    break\n",
    "            rewards_list.append(reward) \n",
    "\n",
    "#             print('-'*20)\n",
    "\n",
    "        return [num for num in range(NUM_EPISODES * MAX_STEPS)],rewards_list\n",
    "    "
   ]
  },
  {
   "cell_type": "code",
   "execution_count": 5,
   "metadata": {},
   "outputs": [
    {
     "name": "stdout",
     "output_type": "stream",
     "text": [
      "(100, 100)\n"
     ]
    }
   ],
   "source": [
    "ENV = 'Inventory-v0'\n",
    "inventory = Environment()"
   ]
  },
  {
   "cell_type": "code",
   "execution_count": 6,
   "metadata": {},
   "outputs": [],
   "source": [
    "GAMMA = 0.99 # 시간할인율\n",
    "ETA = 0.5 # 학습률\n",
    "MAX_STEPS = 300 # 1에피소드당 최대 단계 수\n",
    "NUM_EPISODES = 1000 # 최대 에피소드 수"
   ]
  },
  {
   "cell_type": "code",
   "execution_count": 7,
   "metadata": {
    "scrolled": true
   },
   "outputs": [],
   "source": [
    "env = gym.make(ENV)\n",
    "observation = env.reset()"
   ]
  },
  {
   "cell_type": "code",
   "execution_count": 8,
   "metadata": {
    "scrolled": true
   },
   "outputs": [
    {
     "name": "stderr",
     "output_type": "stream",
     "text": [
      "100%|█████████████████████████████████████████████████████████████████████████████████████████████████████████| 1000/1000 [00:11<00:00, 87.62it/s]\n"
     ]
    }
   ],
   "source": [
    "idx, rewards_list = inventory.run()"
   ]
  },
  {
   "cell_type": "code",
   "execution_count": 9,
   "metadata": {},
   "outputs": [
    {
     "data": {
      "image/png": "[encoded data removed]",
      "text/plain": [
       "<Figure size 1008x288 with 1 Axes>"
      ]
     },
     "metadata": {
      "needs_background": "light"
     },
     "output_type": "display_data"
    }
   ],
   "source": [
    "plt.rcParams[\"figure.figsize\"] = (14,4)\n",
    "\n",
    "fig, ax = plt.subplots()\n",
    "ax.plot([num for num in range(NUM_EPISODES)], rewards_list)\n",
    "\n",
    "plt.show()"
   ]
  },
  {
   "cell_type": "code",
   "execution_count": 10,
   "metadata": {},
   "outputs": [
    {
     "name": "stdout",
     "output_type": "stream",
     "text": [
      "재고가 100개 있을 때는 0개를 주문\n",
      "재고가 99개 있을 때는 0개를 주문\n",
      "재고가 98개 있을 때는 0개를 주문\n",
      "재고가 97개 있을 때는 0개를 주문\n",
      "재고가 96개 있을 때는 0개를 주문\n",
      "재고가 95개 있을 때는 1개를 주문\n",
      "재고가 94개 있을 때는 12개를 주문\n",
      "재고가 93개 있을 때는 0개를 주문\n",
      "재고가 92개 있을 때는 0개를 주문\n",
      "재고가 91개 있을 때는 0개를 주문\n",
      "재고가 90개 있을 때는 1개를 주문\n",
      "재고가 89개 있을 때는 0개를 주문\n",
      "재고가 88개 있을 때는 3개를 주문\n",
      "재고가 87개 있을 때는 2개를 주문\n",
      "재고가 86개 있을 때는 4개를 주문\n",
      "재고가 85개 있을 때는 1개를 주문\n",
      "재고가 84개 있을 때는 1개를 주문\n",
      "재고가 83개 있을 때는 0개를 주문\n",
      "재고가 82개 있을 때는 5개를 주문\n",
      "재고가 81개 있을 때는 2개를 주문\n",
      "재고가 80개 있을 때는 7개를 주문\n",
      "재고가 79개 있을 때는 2개를 주문\n",
      "재고가 78개 있을 때는 57개를 주문\n",
      "재고가 77개 있을 때는 5개를 주문\n",
      "재고가 76개 있을 때는 87개를 주문\n",
      "재고가 75개 있을 때는 76개를 주문\n",
      "재고가 74개 있을 때는 7개를 주문\n",
      "재고가 73개 있을 때는 2개를 주문\n",
      "재고가 72개 있을 때는 5개를 주문\n",
      "재고가 71개 있을 때는 1개를 주문\n",
      "재고가 70개 있을 때는 1개를 주문\n",
      "재고가 69개 있을 때는 0개를 주문\n",
      "재고가 68개 있을 때는 4개를 주문\n",
      "재고가 67개 있을 때는 0개를 주문\n",
      "재고가 66개 있을 때는 3개를 주문\n",
      "재고가 65개 있을 때는 0개를 주문\n",
      "재고가 64개 있을 때는 2개를 주문\n",
      "재고가 63개 있을 때는 1개를 주문\n",
      "재고가 62개 있을 때는 0개를 주문\n",
      "재고가 61개 있을 때는 0개를 주문\n",
      "재고가 60개 있을 때는 4개를 주문\n",
      "재고가 59개 있을 때는 0개를 주문\n",
      "재고가 58개 있을 때는 0개를 주문\n",
      "재고가 57개 있을 때는 0개를 주문\n",
      "재고가 56개 있을 때는 0개를 주문\n",
      "재고가 55개 있을 때는 1개를 주문\n",
      "재고가 54개 있을 때는 0개를 주문\n",
      "재고가 53개 있을 때는 1개를 주문\n",
      "재고가 52개 있을 때는 0개를 주문\n",
      "재고가 51개 있을 때는 2개를 주문\n",
      "재고가 50개 있을 때는 0개를 주문\n",
      "재고가 49개 있을 때는 3개를 주문\n",
      "재고가 48개 있을 때는 1개를 주문\n",
      "재고가 47개 있을 때는 1개를 주문\n",
      "재고가 46개 있을 때는 0개를 주문\n",
      "재고가 45개 있을 때는 1개를 주문\n",
      "재고가 44개 있을 때는 2개를 주문\n",
      "재고가 43개 있을 때는 1개를 주문\n",
      "재고가 42개 있을 때는 2개를 주문\n",
      "재고가 41개 있을 때는 1개를 주문\n",
      "재고가 40개 있을 때는 1개를 주문\n",
      "재고가 39개 있을 때는 0개를 주문\n",
      "재고가 38개 있을 때는 2개를 주문\n",
      "재고가 37개 있을 때는 0개를 주문\n",
      "재고가 36개 있을 때는 0개를 주문\n",
      "재고가 35개 있을 때는 0개를 주문\n",
      "재고가 34개 있을 때는 0개를 주문\n",
      "재고가 33개 있을 때는 0개를 주문\n",
      "재고가 32개 있을 때는 0개를 주문\n",
      "재고가 31개 있을 때는 0개를 주문\n",
      "재고가 30개 있을 때는 0개를 주문\n",
      "재고가 29개 있을 때는 2개를 주문\n",
      "재고가 28개 있을 때는 0개를 주문\n",
      "재고가 27개 있을 때는 3개를 주문\n",
      "재고가 26개 있을 때는 0개를 주문\n",
      "재고가 25개 있을 때는 0개를 주문\n",
      "재고가 24개 있을 때는 0개를 주문\n",
      "재고가 23개 있을 때는 3개를 주문\n",
      "재고가 22개 있을 때는 0개를 주문\n",
      "재고가 21개 있을 때는 3개를 주문\n",
      "재고가 20개 있을 때는 0개를 주문\n",
      "재고가 19개 있을 때는 2개를 주문\n",
      "재고가 18개 있을 때는 1개를 주문\n",
      "재고가 17개 있을 때는 0개를 주문\n",
      "재고가 16개 있을 때는 0개를 주문\n",
      "재고가 15개 있을 때는 0개를 주문\n",
      "재고가 14개 있을 때는 0개를 주문\n",
      "재고가 13개 있을 때는 0개를 주문\n",
      "재고가 12개 있을 때는 41개를 주문\n",
      "재고가 11개 있을 때는 0개를 주문\n",
      "재고가 10개 있을 때는 1개를 주문\n",
      "재고가 9개 있을 때는 0개를 주문\n",
      "재고가 8개 있을 때는 10개를 주문\n",
      "재고가 7개 있을 때는 1개를 주문\n",
      "재고가 6개 있을 때는 79개를 주문\n",
      "재고가 5개 있을 때는 16개를 주문\n",
      "재고가 4개 있을 때는 39개를 주문\n",
      "재고가 3개 있을 때는 56개를 주문\n",
      "재고가 2개 있을 때는 65개를 주문\n",
      "재고가 1개 있을 때는 8개를 주문\n"
     ]
    }
   ],
   "source": [
    "for i, each in enumerate(inventory.agent.brain.q_table) :\n",
    "    print('재고가 {}개 있을 때는 {}개를 주문'.format(100-i, np.argmax(each)))"
   ]
  },
  {
   "cell_type": "code",
   "execution_count": 11,
   "metadata": {},
   "outputs": [
    {
     "data": {
      "text/plain": [
       "array([[ 2340.32273791,     0.        ,     0.        , ...,\n",
       "            0.        ,     0.        , -1530.59825408],\n",
       "       [ 2342.80324463,     0.        ,     0.        , ...,\n",
       "            0.        , -1454.21606853,     0.        ],\n",
       "       [ 2334.47654832,     0.        ,     0.        , ...,\n",
       "            0.        ,     0.        ,     0.        ],\n",
       "       ...,\n",
       "       [-1904.03582352, -1607.54970563, -1822.49815077, ...,\n",
       "        -2011.30151977, -2088.10700491, -1662.21788568],\n",
       "       [ -261.        ,  -243.5       ,  -257.        , ...,\n",
       "            0.        ,     0.        ,     0.        ],\n",
       "       [ 1266.16446971,   981.07904336,  2022.72053259, ...,\n",
       "        -2603.78799215, -2412.1790854 , -1588.77306349]])"
      ]
     },
     "execution_count": 11,
     "metadata": {},
     "output_type": "execute_result"
    }
   ],
   "source": [
    "inventory.agent.brain.q_table"
   ]
  },
  {
   "cell_type": "code",
   "execution_count": null,
   "metadata": {},
   "outputs": [],
   "source": []
  },
  {
   "cell_type": "code",
   "execution_count": null,
   "metadata": {},
   "outputs": [],
   "source": []
  },
  {
   "cell_type": "code",
   "execution_count": null,
   "metadata": {},
   "outputs": [],
   "source": []
  }
 ],
 "metadata": {
  "kernelspec": {
   "display_name": "Python 3",
   "language": "python",
   "name": "python3"
  },
  "language_info": {
   "codemirror_mode": {
    "name": "ipython",
    "version": 3
   },
   "file_extension": ".py",
   "mimetype": "text/x-python",
   "name": "python",
   "nbconvert_exporter": "python",
   "pygments_lexer": "ipython3",
   "version": "3.6.8"
  }
 },
 "nbformat": 4,
 "nbformat_minor": 4
}
